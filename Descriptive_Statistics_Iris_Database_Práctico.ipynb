{
  "nbformat": 4,
  "nbformat_minor": 0,
  "metadata": {
    "kernelspec": {
      "display_name": "Python 3",
      "language": "python",
      "name": "python3"
    },
    "language_info": {
      "codemirror_mode": {
        "name": "ipython",
        "version": 3
      },
      "file_extension": ".py",
      "mimetype": "text/x-python",
      "name": "python",
      "nbconvert_exporter": "python",
      "pygments_lexer": "ipython3",
      "version": "3.7.4"
    },
    "colab": {
      "name": "Descriptive Statistics - Iris Database - Práctico.ipynb",
      "provenance": [],
      "include_colab_link": true
    }
  },
  "cells": [
    {
      "cell_type": "markdown",
      "metadata": {
        "id": "view-in-github",
        "colab_type": "text"
      },
      "source": [
        "<a href=\"https://colab.research.google.com/github/caresiri/CS50INCAE/blob/master/Descriptive_Statistics_Iris_Database_Pr%C3%A1ctico.ipynb\" target=\"_parent\"><img src=\"https://colab.research.google.com/assets/colab-badge.svg\" alt=\"Open In Colab\"/></a>"
      ]
    },
    {
      "cell_type": "markdown",
      "metadata": {
        "id": "5gqiHDGUOyFf"
      },
      "source": [
        "# Descriptive Statistics Iris"
      ]
    },
    {
      "cell_type": "markdown",
      "metadata": {
        "id": "sXxkeh8jOyFl"
      },
      "source": [
        "This data sets consists of 3 different types of irises' (Setosa, Versicolour, and Virginica) petal and sepal length, stored in a 150x4 numpy.ndarray\n",
        "\n",
        "The rows being the samples and the columns being: Sepal Length, Sepal Width, Petal Length and Petal Width.\n",
        "\n",
        "The below plot uses the first two features. See here <https://en.wikipedia.org/wiki/Iris_flower_data_set>_ for more information on this dataset.\n",
        "\n",
        "Se recomienda importar pandas y numpy.\n",
        "                                                            <https://pandas.pydata.org/pandas-docs/stable/reference/frame.html>"
      ]
    },
    {
      "cell_type": "code",
      "metadata": {
        "id": "1lOx5ESXOyFm"
      },
      "source": [
        "# Importamos el modulo que tiene el dataset de Iris\n",
        "from sklearn import datasets"
      ],
      "execution_count": 1,
      "outputs": []
    },
    {
      "cell_type": "code",
      "metadata": {
        "id": "h4XWaiQGOyFm"
      },
      "source": [
        "# importar los módulos *numpy* as np y *pandas*\n"
      ],
      "execution_count": 2,
      "outputs": []
    },
    {
      "cell_type": "code",
      "metadata": {
        "id": "mv72MzX0OyFn"
      },
      "source": [
        "# Importar Iris Data\n",
        "iris = datasets.load_iris()\n",
        "X = iris.data[:, :]"
      ],
      "execution_count": 3,
      "outputs": []
    },
    {
      "cell_type": "code",
      "metadata": {
        "id": "2nZp_wn6OyFn"
      },
      "source": [
        "# Hacemos un dataframe de iris con pandas\n",
        "df_iris = pd.DataFrame({'Sepal_length': X[:,0], 'Sepal_width': X[:,1], 'Petal_length': X[:,2], 'Petal_width': X[:,3]})"
      ],
      "execution_count": 4,
      "outputs": []
    },
    {
      "cell_type": "code",
      "metadata": {
        "id": "3vJyW_BzOyFn"
      },
      "source": [
        "## Hacemos el dataframe de setosa_sepal\n",
        "df_setosa = "
      ],
      "execution_count": null,
      "outputs": []
    },
    {
      "cell_type": "code",
      "metadata": {
        "id": "Vsf89TZ_OyFo"
      },
      "source": [
        "## Basic Exploration\n",
        "\n",
        "# Dimensiones\n"
      ],
      "execution_count": null,
      "outputs": []
    },
    {
      "cell_type": "code",
      "metadata": {
        "id": "pyp28dAfOyFo"
      },
      "source": [
        "# head\n"
      ],
      "execution_count": null,
      "outputs": []
    },
    {
      "cell_type": "code",
      "metadata": {
        "id": "rGD-n4HzOyFo"
      },
      "source": [
        "# tail\n"
      ],
      "execution_count": null,
      "outputs": []
    },
    {
      "cell_type": "code",
      "metadata": {
        "id": "MlA162JDOyFo"
      },
      "source": [
        "# Summary\n"
      ],
      "execution_count": null,
      "outputs": []
    },
    {
      "cell_type": "code",
      "metadata": {
        "id": "Z82mpDYJOyFp"
      },
      "source": [
        "# Descriptive statistics\n"
      ],
      "execution_count": null,
      "outputs": []
    },
    {
      "cell_type": "code",
      "metadata": {
        "id": "i3u82OJ2OyFp"
      },
      "source": [
        "# Quantile\n"
      ],
      "execution_count": null,
      "outputs": []
    },
    {
      "cell_type": "code",
      "metadata": {
        "id": "ic7mpfOKOyFp"
      },
      "source": [
        "## Exploring single variable\n",
        "# Variance sepal length\n"
      ],
      "execution_count": null,
      "outputs": []
    },
    {
      "cell_type": "code",
      "metadata": {
        "id": "PhN738mzOyFp"
      },
      "source": [
        "# Histrogram sepal length (with frequency)\n"
      ],
      "execution_count": null,
      "outputs": []
    },
    {
      "cell_type": "code",
      "metadata": {
        "id": "LtYp4mBqOyFq"
      },
      "source": [
        "# Histrogram sepal length (with density)\n",
        "\n"
      ],
      "execution_count": null,
      "outputs": []
    },
    {
      "cell_type": "code",
      "metadata": {
        "id": "pwbwNMaCOyFq"
      },
      "source": [
        "# Tabulating data from categorical variables\n",
        "#  imagine sepal_length is a categorical variable\n",
        "\n"
      ],
      "execution_count": null,
      "outputs": []
    },
    {
      "cell_type": "code",
      "metadata": {
        "id": "Wdio1mh0OyFq"
      },
      "source": [
        "# Creating a pie chart from a table\n"
      ],
      "execution_count": null,
      "outputs": []
    },
    {
      "cell_type": "code",
      "metadata": {
        "id": "EY4jHCXbOyFq"
      },
      "source": [
        "# Creating a bar chart from a table\n"
      ],
      "execution_count": null,
      "outputs": []
    },
    {
      "cell_type": "code",
      "metadata": {
        "id": "IxevlrVWOyFq"
      },
      "source": [
        "## Exploring multiple variable\n",
        "# Measuring linear association with cor() - between two variables\n"
      ],
      "execution_count": null,
      "outputs": []
    },
    {
      "cell_type": "code",
      "metadata": {
        "id": "CiWNbtMZOyFq"
      },
      "source": [
        "# Measuring linear association with cov() - between two variables\n"
      ],
      "execution_count": null,
      "outputs": []
    },
    {
      "cell_type": "code",
      "metadata": {
        "id": "7xZPVU7JOyFr"
      },
      "source": [
        "# Measuring correlations with cor() - among all numerical variable\n"
      ],
      "execution_count": null,
      "outputs": []
    },
    {
      "cell_type": "code",
      "metadata": {
        "id": "525Sqb-mOyFr"
      },
      "source": [
        "# Boxplot grouped by each species\n"
      ],
      "execution_count": null,
      "outputs": []
    },
    {
      "cell_type": "code",
      "metadata": {
        "id": "JdOHWSLFOyFr"
      },
      "source": [
        "# Boxplots for setosa\n"
      ],
      "execution_count": null,
      "outputs": []
    },
    {
      "cell_type": "code",
      "metadata": {
        "id": "PE09KSkIOyFr"
      },
      "source": [
        "# Scatterplot sepal.length vs sepal.width\n"
      ],
      "execution_count": null,
      "outputs": []
    },
    {
      "cell_type": "code",
      "metadata": {
        "id": "_Q8m1WFsOyFr"
      },
      "source": [
        "# Scatterplot grouped by each species - sepal.length vs sepal.width\n",
        "import matplotlib.pyplot as plt\n"
      ],
      "execution_count": null,
      "outputs": []
    }
  ]
}