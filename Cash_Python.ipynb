{
  "nbformat": 4,
  "nbformat_minor": 0,
  "metadata": {
    "kernelspec": {
      "display_name": "Python 3",
      "language": "python",
      "name": "python3"
    },
    "language_info": {
      "codemirror_mode": {
        "name": "ipython",
        "version": 3
      },
      "file_extension": ".py",
      "mimetype": "text/x-python",
      "name": "python",
      "nbconvert_exporter": "python",
      "pygments_lexer": "ipython3",
      "version": "3.7.3"
    },
    "colab": {
      "name": "Cash - Práctico.ipynb",
      "provenance": [],
      "include_colab_link": true
    }
  },
  "cells": [
    {
      "cell_type": "markdown",
      "metadata": {
        "id": "view-in-github",
        "colab_type": "text"
      },
      "source": [
        "<a href=\"https://colab.research.google.com/github/caresiri/CS50INCAE/blob/master/Cash_Python.ipynb\" target=\"_parent\"><img src=\"https://colab.research.google.com/assets/colab-badge.svg\" alt=\"Open In Colab\"/></a>"
      ]
    },
    {
      "cell_type": "markdown",
      "metadata": {
        "id": "27yWVsFOPD7Y"
      },
      "source": [
        "# Cash"
      ]
    },
    {
      "cell_type": "code",
      "metadata": {
        "id": "ZvEV9vpwPD7e"
      },
      "source": [
        "# The only coins available are quarters (.25) dimes (.10), nickels (.05), pennies (0.01)\n",
        "import math\n",
        "\n"
      ],
      "execution_count": null,
      "outputs": []
    }
  ]
}